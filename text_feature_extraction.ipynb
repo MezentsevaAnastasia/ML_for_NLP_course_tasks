{
  "nbformat": 4,
  "nbformat_minor": 0,
  "metadata": {
    "accelerator": "GPU",
    "colab": {
      "name": "text_feature_extraction.ipynb",
      "provenance": []
    },
    "kernelspec": {
      "display_name": "Python 3",
      "language": "python",
      "name": "python3"
    },
    "language_info": {
      "codemirror_mode": {
        "name": "ipython",
        "version": 3
      },
      "file_extension": ".py",
      "mimetype": "text/x-python",
      "name": "python",
      "nbconvert_exporter": "python",
      "pygments_lexer": "ipython3",
      "version": "3.8.5"
    }
  },
  "cells": [
    {
      "cell_type": "markdown",
      "metadata": {
        "id": "SsluWsNRN4jw"
      },
      "source": [
        "Загружаем и импортируем нужные библиотеки."
      ]
    },
    {
      "cell_type": "code",
      "metadata": {
        "id": "JdWnazR3M0y5",
        "scrolled": true
      },
      "source": [
        "!pip install pymorphy2==0.8\n",
        "!pip install spacy-udpipe"
      ],
      "execution_count": null,
      "outputs": []
    },
    {
      "cell_type": "code",
      "metadata": {
        "colab": {
          "base_uri": "https://localhost:8080/"
        },
        "id": "4N5VKGH9M0y7",
        "outputId": "707d4de3-3c83-4ef6-cb2e-518080b8ce95"
      },
      "source": [
        "from nltk import word_tokenize\n",
        "import nltk\n",
        "nltk.download('punkt')"
      ],
      "execution_count": 3,
      "outputs": [
        {
          "output_type": "stream",
          "text": [
            "[nltk_data] Downloading package punkt to /root/nltk_data...\n",
            "[nltk_data]   Unzipping tokenizers/punkt.zip.\n"
          ],
          "name": "stdout"
        },
        {
          "output_type": "execute_result",
          "data": {
            "text/plain": [
              "True"
            ]
          },
          "metadata": {
            "tags": []
          },
          "execution_count": 3
        }
      ]
    },
    {
      "cell_type": "code",
      "metadata": {
        "id": "vfbL1u6fM0y8"
      },
      "source": [
        "from typing import List, Tuple\n",
        "import random\n",
        "import re\n",
        "import time\n",
        "from tqdm import tqdm\n",
        "from lxml import etree"
      ],
      "execution_count": 4,
      "outputs": []
    },
    {
      "cell_type": "code",
      "metadata": {
        "id": "TKd9jxOLM0y9"
      },
      "source": [
        "from sklearn.feature_extraction.text import CountVectorizer"
      ],
      "execution_count": 5,
      "outputs": []
    },
    {
      "cell_type": "code",
      "metadata": {
        "colab": {
          "base_uri": "https://localhost:8080/"
        },
        "id": "htkp_q2GM0y9",
        "outputId": "c9af3cc6-f0b0-403a-bea0-e8d6cd5bbf60"
      },
      "source": [
        "import spacy_udpipe\n",
        "spacy_udpipe.download(\"ru\")"
      ],
      "execution_count": 6,
      "outputs": [
        {
          "output_type": "stream",
          "text": [
            "Downloaded pre-trained UDPipe model for 'ru' language\n"
          ],
          "name": "stdout"
        }
      ]
    },
    {
      "cell_type": "markdown",
      "metadata": {
        "id": "Par7rCg7qDfi"
      },
      "source": [
        "Функция для считывания и предобработки датасета. На выходе получаем 1) тексты, из которых удаленны ссылки и никнеймы, 2) лемматизированный твит и 3) их соответвующие теги."
      ]
    },
    {
      "cell_type": "code",
      "metadata": {
        "id": "6oQ2imQDM0y-"
      },
      "source": [
        "def load_sentirueval_2016(file_name: str) -> Tuple[List[str], List[str]]:\n",
        "    nlp = spacy_udpipe.load(\"ru\")\n",
        "    lemmatized_texts = []\n",
        "    texts = []\n",
        "    labels = []\n",
        "    with open(file_name, mode='rb') as fp:\n",
        "        xml_data = fp.read()\n",
        "    root = etree.fromstring(xml_data)\n",
        "    for database in root.getchildren():\n",
        "        if database.tag == 'database':\n",
        "            for table in tqdm(database.getchildren()):\n",
        "                if table.tag != 'table':\n",
        "                    continue\n",
        "                new_text = None\n",
        "                new_label = None\n",
        "                for column in table.getchildren():\n",
        "                    if column.get('name') == 'text':\n",
        "                        raw_text = str(column.text).strip()\n",
        "                        # removing links or nicknames\n",
        "                        middle_text = re.sub('(http://.+)|(.*//t.co/.+)|([_@]+\\w+)',' ', raw_text)\n",
        "                        new_text = re.sub('  ',' ', middle_text)\n",
        "                        if new_label is not None:\n",
        "                            break\n",
        "                    elif column.get('name') not in {'id', 'twitid', 'date'}:\n",
        "                        if new_label is None:\n",
        "                            label_candidate = str(column.text).strip()\n",
        "                            if label_candidate in {'0', '1', '-1'}:\n",
        "                                new_label = 'negative' if label_candidate == '-1' else \\\n",
        "                                    ('positive' if label_candidate == '1' else 'neutral')\n",
        "                                if new_text is not None:\n",
        "                                    break\n",
        "                if (new_text is None) or (new_label is None):\n",
        "                    raise ValueError('File `{0}` contains some error!'.format(file_name))\n",
        "                if new_text != ' ': \n",
        "                  lemmatized_text = ' '.join([token.lemma_ for token in nlp(new_text)])\n",
        "                  lemmatized_texts.append(lemmatized_text)\n",
        "                else:\n",
        "                  lemmatized_texts.append(new_text)\n",
        "                texts.append(new_text)\n",
        "                labels.append(new_label)\n",
        "            break\n",
        "    return texts, lemmatized_texts, labels"
      ],
      "execution_count": 63,
      "outputs": []
    },
    {
      "cell_type": "code",
      "metadata": {
        "id": "rEyq_DsvM0y_",
        "colab": {
          "base_uri": "https://localhost:8080/"
        },
        "outputId": "f24d9acc-d43d-41c3-eeb3-1214f5154ce5"
      },
      "source": [
        "texts, lemmatized_texts, labels = load_sentirueval_2016('bank_train_2016.xml')"
      ],
      "execution_count": 64,
      "outputs": [
        {
          "output_type": "stream",
          "text": [
            "100%|██████████| 9393/9393 [00:45<00:00, 206.33it/s]\n"
          ],
          "name": "stderr"
        }
      ]
    },
    {
      "cell_type": "code",
      "metadata": {
        "id": "ad5pBEUQM0zA",
        "colab": {
          "base_uri": "https://localhost:8080/"
        },
        "outputId": "63794a8d-f8fc-41e4-a241-7abe186165ad"
      },
      "source": [
        "print('Number of texts is {0}, number of labels is {1}.'.format(len(texts), len(labels)))"
      ],
      "execution_count": 65,
      "outputs": [
        {
          "output_type": "stream",
          "text": [
            "Number of texts is 9392, number of labels is 9392.\n"
          ],
          "name": "stdout"
        }
      ]
    },
    {
      "cell_type": "code",
      "metadata": {
        "id": "h5G53atOM0zA",
        "scrolled": true,
        "colab": {
          "base_uri": "https://localhost:8080/"
        },
        "outputId": "9717adaa-8f10-43dc-fb50-2095a8a01bfe"
      },
      "source": [
        "for idx in random.choices(list(range(len(texts))), k=20):\n",
        "    print('{0} => {1}'.format(labels[idx], texts[idx]))"
      ],
      "execution_count": 66,
      "outputs": [
        {
          "output_type": "stream",
          "text": [
            "neutral =>  \n",
            "neutral =>  \n",
            "neutral =>  \n",
            "positive => За полгода благодаря ипотеке от Россельхозбанка жилищные условия улучшили больше 300 красноярских семей. Филиал выдал на эти цели в общей с\n",
            "neutral =>  \n",
            "neutral =>  \n",
            "neutral =>  \n",
            "neutral =>  А-Ч привязывается к карте,не к счету. Вопрос, какие смс не пришли.Можем проверить отправку.Киньте № вашего тел. на social .ru\n",
            "negative => RT :  Под новые санкции от ЕС попадают Сбербанк и #ВТБ Порошенко! Почему у нас эти вражеские банки до сих пор работа…\n",
            "positive =>  \n",
            "neutral =>  \n",
            "negative => Опять «порадовал»  Платёжка получена банком в 15:28 и так и не проведена. Ну никак не хотят работать!\n",
            "neutral =>  \n",
            "neutral =>  \n",
            "negative => RT :  Просто журнал не пользуется вашими услугами, никогда не искал тарифы на вашем сайте и не был дезинформирован вашим…\n",
            "neutral =>  \n",
            "positive => Интернет-банк Сбербанка обновился #ЧитайМеняАяТебя\n",
            "neutral =>  \n",
            "negative =>  \n",
            "neutral =>  \n"
          ],
          "name": "stdout"
        }
      ]
    },
    {
      "cell_type": "code",
      "metadata": {
        "id": "oO9mJazyM0zB"
      },
      "source": [
        "positive_tweets = [lemmatized_texts[idx] for idx in range(len(lemmatized_texts)) if labels[idx] == 'positive']\n",
        "negative_tweets = [lemmatized_texts[idx] for idx in range(len(lemmatized_texts)) if labels[idx] == 'negative']"
      ],
      "execution_count": 67,
      "outputs": []
    },
    {
      "cell_type": "code",
      "metadata": {
        "id": "i2qq9JCCM0zB",
        "colab": {
          "base_uri": "https://localhost:8080/"
        },
        "outputId": "2da680fc-e793-4a70-908b-9213fa55de44"
      },
      "source": [
        "for cur in positive_tweets[:5]: print(cur)"
      ],
      "execution_count": 68,
      "outputs": [
        {
          "output_type": "stream",
          "text": [
            "главное чтобы банк СБЕР и ВТБ ! ! !\n",
            " \n",
            " \n",
            " \n",
            "в наш сбербанк прийти американец и просить сфоткаться с он у банкомат ; D я васто быть в шок и на фотка полюбому получиться смешной xD\n"
          ],
          "name": "stdout"
        }
      ]
    },
    {
      "cell_type": "code",
      "metadata": {
        "id": "wqcExS3wM0zC",
        "colab": {
          "base_uri": "https://localhost:8080/"
        },
        "outputId": "034bcda2-16db-4a8e-abb5-1aa09b05d13b"
      },
      "source": [
        "for cur in negative_tweets[:5]: print(cur)"
      ],
      "execution_count": 69,
      "outputs": [
        {
          "output_type": "stream",
          "text": [
            "обязательно про сбербанк писать ! временами хлестко интерать магазин финт выкручивать )\n",
            "втб и сбер точно . вопрос - блокировка операция или запрет на кредит ?\n",
            "Канада ввести санкция против Газпромбанк , ВЭБ , Новатэк и российский оборонный компания\n",
            "RT : если Сбер и ВТБ попасть под санкция , быть жоп\n",
            "RT : # Канада ввести санкция против 10 оборонный и сырьевой компания и банк #РФ . среди они , в частность , \" # Газпромбанк \" , \" # Внешэк …\n"
          ],
          "name": "stdout"
        }
      ]
    },
    {
      "cell_type": "code",
      "metadata": {
        "id": "qdMMIOMxM0zC"
      },
      "source": [
        "vectorizer = CountVectorizer(tokenizer=word_tokenize)"
      ],
      "execution_count": 70,
      "outputs": []
    },
    {
      "cell_type": "code",
      "metadata": {
        "id": "3SYa_RuHM0zC",
        "scrolled": true,
        "colab": {
          "base_uri": "https://localhost:8080/"
        },
        "outputId": "db33b9a2-9517-4c97-e6cd-904b22893ef2"
      },
      "source": [
        "vectorizer.fit(lemmatized_texts)"
      ],
      "execution_count": 71,
      "outputs": [
        {
          "output_type": "stream",
          "text": [
            "/usr/local/lib/python3.6/dist-packages/sklearn/feature_extraction/text.py:507: UserWarning: The parameter 'token_pattern' will not be used since 'tokenizer' is not None'\n",
            "  warnings.warn(\"The parameter 'token_pattern' will not be used\"\n"
          ],
          "name": "stderr"
        },
        {
          "output_type": "execute_result",
          "data": {
            "text/plain": [
              "CountVectorizer(analyzer='word', binary=False, decode_error='strict',\n",
              "                dtype=<class 'numpy.int64'>, encoding='utf-8', input='content',\n",
              "                lowercase=True, max_df=1.0, max_features=None, min_df=1,\n",
              "                ngram_range=(1, 1), preprocessor=None, stop_words=None,\n",
              "                strip_accents=None, token_pattern='(?u)\\\\b\\\\w\\\\w+\\\\b',\n",
              "                tokenizer=<function word_tokenize at 0x7fc377791b70>,\n",
              "                vocabulary=None)"
            ]
          },
          "metadata": {
            "tags": []
          },
          "execution_count": 71
        }
      ]
    },
    {
      "cell_type": "code",
      "metadata": {
        "id": "kiHF5MEyM0zC",
        "colab": {
          "base_uri": "https://localhost:8080/"
        },
        "outputId": "835272be-136f-4062-e68e-b8b16840525c"
      },
      "source": [
        "print(vectorizer.get_feature_names()[0:20])"
      ],
      "execution_count": 72,
      "outputs": [
        {
          "output_type": "stream",
          "text": [
            "['!', '#', '$', '%', '&', \"''\", '(', ')', '*^', '*бесится*', '*трипл-смайлик-крик', '+', '+3,49', '+300', '+5тысяча', '+74955102933', ',', '-', '-in', '-а']\n"
          ],
          "name": "stdout"
        }
      ]
    },
    {
      "cell_type": "code",
      "metadata": {
        "id": "-J5kDLR6M0zD",
        "colab": {
          "base_uri": "https://localhost:8080/"
        },
        "outputId": "c7761f40-731f-47b3-ead4-f0c593d4ec05"
      },
      "source": [
        "print(len(vectorizer.get_feature_names()))"
      ],
      "execution_count": 73,
      "outputs": [
        {
          "output_type": "stream",
          "text": [
            "5901\n"
          ],
          "name": "stdout"
        }
      ]
    },
    {
      "cell_type": "code",
      "metadata": {
        "id": "nq3lydQdM0zD"
      },
      "source": [
        "X = vectorizer.transform(lemmatized_texts)"
      ],
      "execution_count": 77,
      "outputs": []
    },
    {
      "cell_type": "code",
      "metadata": {
        "id": "-jCbP-UrM0zD",
        "colab": {
          "base_uri": "https://localhost:8080/"
        },
        "outputId": "9bff30c7-4c6a-4136-c3c3-486e3527ba0d"
      },
      "source": [
        "print(type(X))"
      ],
      "execution_count": 78,
      "outputs": [
        {
          "output_type": "stream",
          "text": [
            "<class 'scipy.sparse.csr.csr_matrix'>\n"
          ],
          "name": "stdout"
        }
      ]
    },
    {
      "cell_type": "code",
      "metadata": {
        "id": "vmpZwWHRM0zE",
        "colab": {
          "base_uri": "https://localhost:8080/"
        },
        "outputId": "63afe4ef-bd9e-425c-d6e1-bc9d89f94047"
      },
      "source": [
        "print(lemmatized_texts[10])"
      ],
      "execution_count": 80,
      "outputs": [
        {
          "output_type": "stream",
          "text": [
            "дело - на 1 миллиард грн уйти в минус Райффайзен Банк Аваль и быть докапитализировать украинский \" дочка \" ВТб\n"
          ],
          "name": "stdout"
        }
      ]
    },
    {
      "cell_type": "code",
      "metadata": {
        "id": "wwRM5fFXM0zE",
        "colab": {
          "base_uri": "https://localhost:8080/"
        },
        "outputId": "818a16a5-a704-4286-8c83-260c095577d4"
      },
      "source": [
        "print(X[10])"
      ],
      "execution_count": 81,
      "outputs": [
        {
          "output_type": "stream",
          "text": [
            "  (0, 17)\t1\n",
            "  (0, 57)\t1\n",
            "  (0, 326)\t2\n",
            "  (0, 616)\t1\n",
            "  (0, 808)\t1\n",
            "  (0, 969)\t1\n",
            "  (0, 974)\t1\n",
            "  (0, 1245)\t1\n",
            "  (0, 1473)\t1\n",
            "  (0, 1546)\t1\n",
            "  (0, 1636)\t1\n",
            "  (0, 1687)\t1\n",
            "  (0, 1994)\t1\n",
            "  (0, 2713)\t1\n",
            "  (0, 2730)\t1\n",
            "  (0, 2851)\t1\n",
            "  (0, 4353)\t1\n",
            "  (0, 5377)\t1\n",
            "  (0, 5390)\t1\n"
          ],
          "name": "stdout"
        }
      ]
    },
    {
      "cell_type": "code",
      "metadata": {
        "id": "JIi7qzp0M0zE",
        "colab": {
          "base_uri": "https://localhost:8080/"
        },
        "outputId": "cb70fb8f-fe9f-4b87-c86e-0c4a04e4672c"
      },
      "source": [
        "print(vectorizer.get_feature_names()[2321])"
      ],
      "execution_count": 83,
      "outputs": [
        {
          "output_type": "stream",
          "text": [
            "коммерческий\n"
          ],
          "name": "stdout"
        }
      ]
    },
    {
      "cell_type": "code",
      "metadata": {
        "id": "8PPdjLlRM0zE",
        "colab": {
          "base_uri": "https://localhost:8080/"
        },
        "outputId": "6b3234ac-abd1-4bdb-88ca-3a111e77057f"
      },
      "source": [
        "print(vectorizer.get_feature_names()[96])"
      ],
      "execution_count": 84,
      "outputs": [
        {
          "output_type": "stream",
          "text": [
            "140\n"
          ],
          "name": "stdout"
        }
      ]
    },
    {
      "cell_type": "code",
      "metadata": {
        "id": "MKegX4oXM0zF",
        "colab": {
          "base_uri": "https://localhost:8080/"
        },
        "outputId": "92e49234-6a60-43b4-d813-e0624298fc8e"
      },
      "source": [
        "print(vectorizer.get_feature_names()[16])"
      ],
      "execution_count": 85,
      "outputs": [
        {
          "output_type": "stream",
          "text": [
            ",\n"
          ],
          "name": "stdout"
        }
      ]
    },
    {
      "cell_type": "code",
      "metadata": {
        "id": "2HjBgCDDM0zF"
      },
      "source": [
        "from sklearn.feature_extraction.text import TfidfTransformer"
      ],
      "execution_count": 86,
      "outputs": []
    },
    {
      "cell_type": "code",
      "metadata": {
        "id": "0YcjzZaaM0zF"
      },
      "source": [
        "transformer = TfidfTransformer().fit(X)"
      ],
      "execution_count": 87,
      "outputs": []
    },
    {
      "cell_type": "code",
      "metadata": {
        "id": "DPnnPQJMM0zF"
      },
      "source": [
        "X_transformed = transformer.transform(X)"
      ],
      "execution_count": 88,
      "outputs": []
    },
    {
      "cell_type": "code",
      "metadata": {
        "id": "gBeayJmAM0zG",
        "colab": {
          "base_uri": "https://localhost:8080/"
        },
        "outputId": "a9741fde-464b-4aab-9760-37dee0a91191"
      },
      "source": [
        "print(X_transformed[10])"
      ],
      "execution_count": 89,
      "outputs": [
        {
          "output_type": "stream",
          "text": [
            "  (0, 5390)\t0.26552533657725413\n",
            "  (0, 5377)\t0.2784019288526588\n",
            "  (0, 4353)\t0.22530409747514774\n",
            "  (0, 2851)\t0.1267017928520832\n",
            "  (0, 2730)\t0.2926000714886608\n",
            "  (0, 2713)\t0.19408307002189207\n",
            "  (0, 1994)\t0.11718194377453123\n",
            "  (0, 1687)\t0.2683281863361969\n",
            "  (0, 1636)\t0.33107009927712666\n",
            "  (0, 1546)\t0.24710317233675994\n",
            "  (0, 1473)\t0.3067982141246628\n",
            "  (0, 1245)\t0.1396693825562318\n",
            "  (0, 974)\t0.10643310874771426\n",
            "  (0, 969)\t0.16744198682407113\n",
            "  (0, 808)\t0.12471448354023115\n",
            "  (0, 616)\t0.2522367756872963\n",
            "  (0, 326)\t0.31860488772068735\n",
            "  (0, 57)\t0.222831287184296\n",
            "  (0, 17)\t0.14884177002193988\n"
          ],
          "name": "stdout"
        }
      ]
    },
    {
      "cell_type": "code",
      "metadata": {
        "id": "QtMWnb-OM0zG",
        "colab": {
          "base_uri": "https://localhost:8080/"
        },
        "outputId": "a3af0fef-d37c-499d-be1e-bd3605280452"
      },
      "source": [
        "print(vectorizer.get_feature_names()[1000])"
      ],
      "execution_count": 94,
      "outputs": [
        {
          "output_type": "stream",
          "text": [
            "ввод\n"
          ],
          "name": "stdout"
        }
      ]
    },
    {
      "cell_type": "code",
      "metadata": {
        "id": "3biUQRbkM0zG",
        "colab": {
          "base_uri": "https://localhost:8080/"
        },
        "outputId": "8401fb14-7563-454d-c73e-4f163743d95b"
      },
      "source": [
        "print(vectorizer.get_feature_names()[779])"
      ],
      "execution_count": 96,
      "outputs": [
        {
          "output_type": "stream",
          "text": [
            "аэрофлот\n"
          ],
          "name": "stdout"
        }
      ]
    },
    {
      "cell_type": "code",
      "metadata": {
        "id": "xfB4QF3iM0zG"
      },
      "source": [
        "tokens_with_IDF = list(zip(vectorizer.get_feature_names(), transformer.idf_))"
      ],
      "execution_count": 97,
      "outputs": []
    },
    {
      "cell_type": "code",
      "metadata": {
        "id": "VoyqaVAQM0zH",
        "colab": {
          "base_uri": "https://localhost:8080/"
        },
        "outputId": "f7109d29-2246-4c1a-e869-d6010ae8a52b"
      },
      "source": [
        "for feature, idf in tokens_with_IDF[0:20]: print('{0:.6f} => {1}'.format(idf, feature))"
      ],
      "execution_count": 98,
      "outputs": [
        {
          "output_type": "stream",
          "text": [
            "4.662923 => !\n",
            "4.051895 => #\n",
            "6.621359 => $\n",
            "5.885040 => %\n",
            "6.020586 => &\n",
            "9.454573 => ''\n",
            "5.287908 => (\n",
            "4.844415 => )\n",
            "9.454573 => *^\n",
            "9.454573 => *бесится*\n",
            "9.454573 => *трипл-смайлик-крик\n",
            "9.454573 => +\n",
            "9.454573 => +3,49\n",
            "9.454573 => +300\n",
            "9.454573 => +5тысяча\n",
            "9.454573 => +74955102933\n",
            "3.069378 => ,\n",
            "4.250566 => -\n",
            "9.454573 => -in\n",
            "9.454573 => -а\n"
          ],
          "name": "stdout"
        }
      ]
    },
    {
      "cell_type": "code",
      "metadata": {
        "id": "Fsp50wI_M0zH"
      },
      "source": [
        "sorted_tokens_with_IDF = sorted(tokens_with_IDF, key=lambda it: (-it[1], it[0]))"
      ],
      "execution_count": 99,
      "outputs": []
    },
    {
      "cell_type": "code",
      "metadata": {
        "id": "cEituwmOM0zH",
        "colab": {
          "base_uri": "https://localhost:8080/"
        },
        "outputId": "0b62d324-aa18-4c38-e4b9-4d712d770856"
      },
      "source": [
        "for feature, idf in sorted_tokens_with_IDF[0:20]: print('{0:.6f} => {1}'.format(idf, feature))"
      ],
      "execution_count": 100,
      "outputs": [
        {
          "output_type": "stream",
          "text": [
            "9.454573 => ''\n",
            "9.454573 => *^\n",
            "9.454573 => *бесится*\n",
            "9.454573 => *трипл-смайлик-крик\n",
            "9.454573 => +\n",
            "9.454573 => +3,49\n",
            "9.454573 => +300\n",
            "9.454573 => +5тысяча\n",
            "9.454573 => +74955102933\n",
            "9.454573 => -in\n",
            "9.454573 => -а\n",
            "9.454573 => -банка\n",
            "9.454573 => -депозит\n",
            "9.454573 => -й\n",
            "9.454573 => -клик\n",
            "9.454573 => -клика\n",
            "9.454573 => -кликом\n",
            "9.454573 => -круто\n",
            "9.454573 => -лидер\n",
            "9.454573 => -пересадочный\n"
          ],
          "name": "stdout"
        }
      ]
    },
    {
      "cell_type": "code",
      "metadata": {
        "id": "QZQuHAiYM0zH"
      },
      "source": [
        "from sklearn.feature_selection import SelectPercentile, chi2"
      ],
      "execution_count": 101,
      "outputs": []
    },
    {
      "cell_type": "code",
      "metadata": {
        "id": "Fd-7ND35M0zH"
      },
      "source": [
        "selector = SelectPercentile(chi2, percentile=20)"
      ],
      "execution_count": 102,
      "outputs": []
    },
    {
      "cell_type": "code",
      "metadata": {
        "id": "unNS6wbkM0zI",
        "colab": {
          "base_uri": "https://localhost:8080/"
        },
        "outputId": "d87aefcf-b3ca-4d96-b6af-dd3707595c38"
      },
      "source": [
        "selector.fit(X_transformed, labels)"
      ],
      "execution_count": 103,
      "outputs": [
        {
          "output_type": "execute_result",
          "data": {
            "text/plain": [
              "SelectPercentile(percentile=20, score_func=<function chi2 at 0x7fc31a0502f0>)"
            ]
          },
          "metadata": {
            "tags": []
          },
          "execution_count": 103
        }
      ]
    },
    {
      "cell_type": "code",
      "metadata": {
        "id": "69pB5lG7M0zI"
      },
      "source": [
        "selected_tokens_with_IDF = [tokens_with_IDF[idx] for idx in selector.get_support(indices=True)]"
      ],
      "execution_count": 104,
      "outputs": []
    },
    {
      "cell_type": "code",
      "metadata": {
        "id": "wTNK6VyiM0zI",
        "colab": {
          "base_uri": "https://localhost:8080/"
        },
        "outputId": "cb7a117f-b598-42e9-81f6-077bd4dc0e28"
      },
      "source": [
        "print(len(selected_tokens_with_IDF))"
      ],
      "execution_count": 105,
      "outputs": [
        {
          "output_type": "stream",
          "text": [
            "1180\n"
          ],
          "name": "stdout"
        }
      ]
    },
    {
      "cell_type": "code",
      "metadata": {
        "id": "WN0lSIIrM0zI",
        "colab": {
          "base_uri": "https://localhost:8080/"
        },
        "outputId": "c8892050-31af-49c6-8fb4-b3f9f2263855"
      },
      "source": [
        "for feature, idf in selected_tokens_with_IDF[0:20]: print('{0:.6f} => {1}'.format(idf, feature))"
      ],
      "execution_count": 106,
      "outputs": [
        {
          "output_type": "stream",
          "text": [
            "4.662923 => !\n",
            "4.051895 => #\n",
            "5.885040 => %\n",
            "5.287908 => (\n",
            "4.844415 => )\n",
            "9.454573 => *^\n",
            "9.454573 => +\n",
            "9.454573 => +5тысяча\n",
            "3.069378 => ,\n",
            "4.250566 => -\n",
            "9.454573 => -депозит\n",
            "3.158385 => .\n",
            "8.761426 => ...\n",
            "9.049108 => 0,5\n",
            "7.950495 => 00\n",
            "6.363530 => 1\n",
            "7.950495 => 1,5\n",
            "6.851883 => 10\n",
            "7.012226 => 100\n",
            "9.454573 => 103\n"
          ],
          "name": "stdout"
        }
      ]
    },
    {
      "cell_type": "code",
      "metadata": {
        "id": "hmZS3--lM0zI"
      },
      "source": [
        "selected_and_sorted_tokens_with_IDF = sorted(selected_tokens_with_IDF, key=lambda it: (-it[1], it[0]))"
      ],
      "execution_count": 107,
      "outputs": []
    },
    {
      "cell_type": "code",
      "metadata": {
        "id": "Kbb-LGCyM0zJ",
        "colab": {
          "base_uri": "https://localhost:8080/"
        },
        "outputId": "c5026427-6ccc-4b8a-e387-6ca236cd450f"
      },
      "source": [
        "for feature, idf in selected_and_sorted_tokens_with_IDF[0:20]: print('{0:.6f} => {1}'.format(idf, feature))"
      ],
      "execution_count": 108,
      "outputs": [
        {
          "output_type": "stream",
          "text": [
            "9.454573 => *^\n",
            "9.454573 => +\n",
            "9.454573 => +5тысяча\n",
            "9.454573 => -депозит\n",
            "9.454573 => 103\n",
            "9.454573 => 164\n",
            "9.454573 => 19,2\n",
            "9.454573 => 20,9\n",
            "9.454573 => 2009\n",
            "9.454573 => 212,4\n",
            "9.454573 => 220,3\n",
            "9.454573 => 262,8\n",
            "9.454573 => 3,35\n",
            "9.454573 => 3,6\n",
            "9.454573 => 3,7\n",
            "9.454573 => 324\n",
            "9.454573 => 344\n",
            "9.454573 => 402\n",
            "9.454573 => 5-\n",
            "9.454573 => 500тысяча\n"
          ],
          "name": "stdout"
        }
      ]
    }
  ]
}