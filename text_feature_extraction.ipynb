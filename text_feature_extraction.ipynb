{
 "cells": [
  {
   "cell_type": "code",
   "execution_count": 3,
   "metadata": {},
   "outputs": [],
   "source": [
    "from lxml import etree"
   ]
  },
  {
   "cell_type": "code",
   "execution_count": 2,
   "metadata": {},
   "outputs": [],
   "source": [
    "from typing import List, Tuple"
   ]
  },
  {
   "cell_type": "code",
   "execution_count": 5,
   "metadata": {},
   "outputs": [],
   "source": [
    "def load_sentirueval_2016(file_name: str) -> Tuple[List[str], List[str]]:\n",
    "    texts = []\n",
    "    labels = []\n",
    "    with open(file_name, mode='rb') as fp:\n",
    "        xml_data = fp.read()\n",
    "    root = etree.fromstring(xml_data)\n",
    "    for database in root.getchildren():\n",
    "        if database.tag == 'database':\n",
    "            for table in database.getchildren():\n",
    "                if table.tag != 'table':\n",
    "                    continue\n",
    "                new_text = None\n",
    "                new_label = None\n",
    "                for column in table.getchildren():\n",
    "                    if column.get('name') == 'text':\n",
    "                        new_text = str(column.text).strip()\n",
    "                        if new_label is not None:\n",
    "                            break\n",
    "                    elif column.get('name') not in {'id', 'twitid', 'date'}:\n",
    "                        if new_label is None:\n",
    "                            label_candidate = str(column.text).strip()\n",
    "                            if label_candidate in {'0', '1', '-1'}:\n",
    "                                new_label = 'negative' if label_candidate == '-1' else \\\n",
    "                                    ('positive' if label_candidate == '1' else 'neutral')\n",
    "                                if new_text is not None:\n",
    "                                    break\n",
    "                if (new_text is None) or (new_label is None):\n",
    "                    raise ValueError('File `{0}` contains some error!'.format(file_name))\n",
    "                texts.append(new_text)\n",
    "                labels.append(new_label)\n",
    "            break\n",
    "    return texts, labels"
   ]
  },
  {
   "cell_type": "code",
   "execution_count": 6,
   "metadata": {},
   "outputs": [],
   "source": [
    "texts, labels = load_sentirueval_2016('bank_train_2016.xml')"
   ]
  },
  {
   "cell_type": "code",
   "execution_count": 7,
   "metadata": {},
   "outputs": [
    {
     "name": "stdout",
     "output_type": "stream",
     "text": [
      "Number of texts is 9392, number of labels is 9392.\n"
     ]
    }
   ],
   "source": [
    "print('Number of texts is {0}, number of labels is {1}.'.format(len(texts), len(labels)))"
   ]
  },
  {
   "cell_type": "code",
   "execution_count": 8,
   "metadata": {},
   "outputs": [],
   "source": [
    "import random"
   ]
  },
  {
   "cell_type": "code",
   "execution_count": 9,
   "metadata": {},
   "outputs": [
    {
     "name": "stdout",
     "output_type": "stream",
     "text": [
      "negative => ? США ввели санкции против Банка Москвы, ВТБ и Россельхозбанка /  / США ввели санкции против Банка Москвы,.. http://t.co/6EGDctqP1A\n",
      "neutral => Поволжский Сбербанк намерен получить в собственность многоэтажку на площади Урицкого\n",
      "neutral => страховка по кредиту в сбербанке http://t.co/BEjlQscRvv\n",
      "neutral => сайт сбербанк кредитный калькулятор http://t.co/dasMKfdgUQ\n",
      "neutral => ВТБ 24 планирует увеличить уставный капитал в 2 раза\n",
      "neutral => райфайзен банк оформить кредитную карту http://t.co/hVaNryVOdg\n",
      "negative => RT @channelone_rus: В Удмуртии на свалке нашли документы Сбербанка. http://t.co/meN3KZQoyv http://t.co/Lc8PRx5Gr1\n",
      "neutral => Какие справки требуются для получения кредита в сбербанк http://t.co/BmDdKENUbd\n",
      "neutral => Кредитные карты уралсиб банк http://t.co/x4242NAX05\n",
      "neutral => RT @sofroniyab183: Кредитные карты Альфа банка в Ижевске http://t.co/zOX0rFA4Im\n",
      "neutral => организационная структура сбербанка россии 2012 схема скачать бесплатно http://t.co/zdW84zNm7k\n",
      "neutral => Кредит втб 24 отзывы http://t.co/qECfYlfSsA\n",
      "neutral => ответы на тест альфа банк http://t.co/Jx3kCMTmis\n",
      "neutral => сбербанк подача заявки на кредит http://t.co/y6d492OOcS\n",
      "positive => Россельхозбанк выпустил платежную карту в поддержку амурских тигров\n",
      "neutral => RT @kycofetanicy: банк москвы кредиты физическим лицам 9 9 http://t.co/s89mvnILUQ\n",
      "positive => Сбербанк РФ запустил новую версию сайта\n",
      "neutral => рассчитать ипотечный кредит втб 24 http://t.co/DxcWm46Iow\n",
      "neutral => Банк сбербанк иркутск кредит http://t.co/WOvkrVjzsw\n",
      "neutral => #свежие_новости Банк УРАЛСИБ завершил перевод первого пула банков-партнеров Мастер-Банка: Банк У... http://t.co/fbbJqmPC46 #сводка\n"
     ]
    }
   ],
   "source": [
    "for idx in random.choices(list(range(len(texts))), k=20):\n",
    "    print('{0} => {1}'.format(labels[idx], texts[idx]))"
   ]
  },
  {
   "cell_type": "code",
   "execution_count": 10,
   "metadata": {},
   "outputs": [],
   "source": [
    "positive_tweets = [texts[idx] for idx in range(len(texts)) if labels[idx] == 'positive']\n",
    "negative_tweets = [texts[idx] for idx in range(len(texts)) if labels[idx] == 'negative']"
   ]
  },
  {
   "cell_type": "code",
   "execution_count": 11,
   "metadata": {},
   "outputs": [
    {
     "name": "stdout",
     "output_type": "stream",
     "text": [
      "@sawik_shuster @YevhenS Главное чтоб банки СБЕР и ВТБ!!!\n",
      "Самый выгодный автокредит в втб 24 http://t.co/CDJ5P40x7g\n",
      "http://t.co/h6r6GdBe4H Легко можно получить денежный кредит ы втб 24 банке\n",
      "Снижение процентной ставки по кредиту на недвижимость сбербанк http://t.co/MredO898wK\n",
      "В наш сбербанк пришел американец и попросил сфоткаться с ним у банкомата ;D \n",
      "я ваще была в шоке и на фотке полюбому получилась смешная xD\n"
     ]
    }
   ],
   "source": [
    "for cur in positive_tweets[:5]: print(cur)"
   ]
  },
  {
   "cell_type": "code",
   "execution_count": 12,
   "metadata": {},
   "outputs": [
    {
     "name": "stdout",
     "output_type": "stream",
     "text": [
      "@ShtirliZ_ @Zhukova_olga @winzard @tereshenkov обязательно про сбербанк напишите! Временами похлеще интернет магазинов финты выкручивает)\n",
      "@Umka_75 @Alfarius2012 @igor_sechin втб и сбер точно. вопрос-блокировка операций или запрет на кредиты?\n",
      "Канада ввела санкции против Газпромбанка, ВЭБа, Новатэка и российских оборонных компаний\n",
      "RT @letokot: Если Сбер и ВТБ попали под санкции, будет жопа\n",
      "RT @360_tv_ru: #Канада ввела санкции против 10 оборонных и сырьевых компаний и банков #РФ. Среди них, в частности, \"#Газпромбанк\", \"#Внешэк…\n"
     ]
    }
   ],
   "source": [
    "for cur in negative_tweets[:5]: print(cur)"
   ]
  },
  {
   "cell_type": "code",
   "execution_count": 15,
   "metadata": {},
   "outputs": [],
   "source": [
    "from nltk import word_tokenize"
   ]
  },
  {
   "cell_type": "code",
   "execution_count": 16,
   "metadata": {},
   "outputs": [
    {
     "ename": "ModuleNotFoundError",
     "evalue": "No module named 'sklearn'",
     "output_type": "error",
     "traceback": [
      "\u001b[0;31m---------------------------------------------------------------------------\u001b[0m",
      "\u001b[0;31mModuleNotFoundError\u001b[0m                       Traceback (most recent call last)",
      "\u001b[0;32m<ipython-input-16-6a1df9f4b4e2>\u001b[0m in \u001b[0;36m<module>\u001b[0;34m\u001b[0m\n\u001b[0;32m----> 1\u001b[0;31m \u001b[0;32mfrom\u001b[0m \u001b[0msklearn\u001b[0m\u001b[0;34m.\u001b[0m\u001b[0mfeature_extraction\u001b[0m\u001b[0;34m.\u001b[0m\u001b[0mtext\u001b[0m \u001b[0;32mimport\u001b[0m \u001b[0mCountVectorizer\u001b[0m\u001b[0;34m\u001b[0m\u001b[0;34m\u001b[0m\u001b[0m\n\u001b[0m",
      "\u001b[0;31mModuleNotFoundError\u001b[0m: No module named 'sklearn'"
     ]
    }
   ],
   "source": [
    "from sklearn.feature_extraction.text import CountVectorizer"
   ]
  },
  {
   "cell_type": "code",
   "execution_count": 13,
   "metadata": {},
   "outputs": [],
   "source": [
    "vectorizer = CountVectorizer(lowercase=True, tokenizer=word_tokenize)"
   ]
  },
  {
   "cell_type": "code",
   "execution_count": 14,
   "metadata": {
    "scrolled": true
   },
   "outputs": [
    {
     "data": {
      "text/plain": [
       "CountVectorizer(analyzer='word', binary=False, decode_error='strict',\n",
       "                dtype=<class 'numpy.int64'>, encoding='utf-8', input='content',\n",
       "                lowercase=True, max_df=1.0, max_features=None, min_df=1,\n",
       "                ngram_range=(1, 1), preprocessor=None, stop_words=None,\n",
       "                strip_accents=None, token_pattern='(?u)\\\\b\\\\w\\\\w+\\\\b',\n",
       "                tokenizer=<function word_tokenize at 0x7fd8c66eb950>,\n",
       "                vocabulary=None)"
      ]
     },
     "execution_count": 14,
     "metadata": {},
     "output_type": "execute_result"
    }
   ],
   "source": [
    "vectorizer.fit(texts)"
   ]
  },
  {
   "cell_type": "code",
   "execution_count": 15,
   "metadata": {},
   "outputs": [
    {
     "name": "stdout",
     "output_type": "stream",
     "text": [
      "['!', '#', '$', '%', '&', \"''\", '(', ')', '*^____^*', '*бесится*', '*трипл-смайлик-крик-мунка*', '+', '+3,49', '+300', '+5тыс', '+74955102933', '+в', ',', '-', '--']\n"
     ]
    }
   ],
   "source": [
    "print(vectorizer.get_feature_names()[0:20])"
   ]
  },
  {
   "cell_type": "code",
   "execution_count": 16,
   "metadata": {},
   "outputs": [
    {
     "name": "stdout",
     "output_type": "stream",
     "text": [
      "20240\n"
     ]
    }
   ],
   "source": [
    "print(len(vectorizer.get_feature_names()))"
   ]
  },
  {
   "cell_type": "code",
   "execution_count": 17,
   "metadata": {},
   "outputs": [],
   "source": [
    "X = vectorizer.transform(texts)"
   ]
  },
  {
   "cell_type": "code",
   "execution_count": 18,
   "metadata": {},
   "outputs": [
    {
     "name": "stdout",
     "output_type": "stream",
     "text": [
      "<class 'scipy.sparse.csr.csr_matrix'>\n"
     ]
    }
   ],
   "source": [
    "print(type(X))"
   ]
  },
  {
   "cell_type": "code",
   "execution_count": 19,
   "metadata": {},
   "outputs": [
    {
     "name": "stdout",
     "output_type": "stream",
     "text": [
      "http://t.co/YEVHuvVGA1 Взять кредит тюмень альфа банк\n"
     ]
    }
   ],
   "source": [
    "print(texts[0])"
   ]
  },
  {
   "cell_type": "code",
   "execution_count": 20,
   "metadata": {},
   "outputs": [
    {
     "name": "stdout",
     "output_type": "stream",
     "text": [
      "  (0, 6321)\t1\n",
      "  (0, 7199)\t1\n",
      "  (0, 7775)\t1\n",
      "  (0, 9093)\t1\n",
      "  (0, 9295)\t1\n",
      "  (0, 9866)\t1\n",
      "  (0, 12802)\t1\n",
      "  (0, 19056)\t1\n"
     ]
    }
   ],
   "source": [
    "print(X[0])"
   ]
  },
  {
   "cell_type": "code",
   "execution_count": 21,
   "metadata": {},
   "outputs": [
    {
     "name": "stdout",
     "output_type": "stream",
     "text": [
      "//t.co/yevhuvvga1\n"
     ]
    }
   ],
   "source": [
    "print(vectorizer.get_feature_names()[6321])"
   ]
  },
  {
   "cell_type": "code",
   "execution_count": 22,
   "metadata": {},
   "outputs": [
    {
     "name": "stdout",
     "output_type": "stream",
     "text": [
      "взять\n"
     ]
    }
   ],
   "source": [
    "print(vectorizer.get_feature_names()[9866])"
   ]
  },
  {
   "cell_type": "code",
   "execution_count": 23,
   "metadata": {},
   "outputs": [
    {
     "name": "stdout",
     "output_type": "stream",
     "text": [
      "тюмень\n"
     ]
    }
   ],
   "source": [
    "print(vectorizer.get_feature_names()[19056])"
   ]
  },
  {
   "cell_type": "code",
   "execution_count": 24,
   "metadata": {},
   "outputs": [],
   "source": [
    "from sklearn.feature_extraction.text import TfidfTransformer"
   ]
  },
  {
   "cell_type": "code",
   "execution_count": 25,
   "metadata": {},
   "outputs": [],
   "source": [
    "transformer = TfidfTransformer().fit(X)"
   ]
  },
  {
   "cell_type": "code",
   "execution_count": 26,
   "metadata": {},
   "outputs": [],
   "source": [
    "X_transformed = transformer.transform(X)"
   ]
  },
  {
   "cell_type": "code",
   "execution_count": 27,
   "metadata": {},
   "outputs": [
    {
     "name": "stdout",
     "output_type": "stream",
     "text": [
      "  (0, 19056)\t0.5196718117883131\n",
      "  (0, 12802)\t0.1747696254947399\n",
      "  (0, 9866)\t0.2815105414658593\n",
      "  (0, 9295)\t0.20532647450968283\n",
      "  (0, 9093)\t0.26133302396332425\n",
      "  (0, 7775)\t0.10105244280985996\n",
      "  (0, 7199)\t0.09241698661915439\n",
      "  (0, 6321)\t0.7006726731639271\n"
     ]
    }
   ],
   "source": [
    "print(X_transformed[0])"
   ]
  },
  {
   "cell_type": "code",
   "execution_count": 28,
   "metadata": {},
   "outputs": [
    {
     "name": "stdout",
     "output_type": "stream",
     "text": [
      "тюмень\n"
     ]
    }
   ],
   "source": [
    "print(vectorizer.get_feature_names()[19056])"
   ]
  },
  {
   "cell_type": "code",
   "execution_count": 29,
   "metadata": {},
   "outputs": [
    {
     "name": "stdout",
     "output_type": "stream",
     "text": [
      ":\n"
     ]
    }
   ],
   "source": [
    "print(vectorizer.get_feature_names()[7199])"
   ]
  },
  {
   "cell_type": "code",
   "execution_count": 30,
   "metadata": {},
   "outputs": [],
   "source": [
    "tokens_with_IDF = list(zip(vectorizer.get_feature_names(), transformer.idf_))"
   ]
  },
  {
   "cell_type": "code",
   "execution_count": 31,
   "metadata": {},
   "outputs": [
    {
     "name": "stdout",
     "output_type": "stream",
     "text": [
      "4.417620 => !\n",
      "3.144655 => #\n",
      "6.276519 => $\n",
      "5.636861 => %\n",
      "5.647910 => &\n",
      "4.134005 => ''\n",
      "4.805386 => (\n",
      "4.443938 => )\n",
      "9.454573 => *^____^*\n",
      "9.454573 => *бесится*\n",
      "9.454573 => *трипл-смайлик-крик-мунка*\n",
      "9.049108 => +\n",
      "9.454573 => +3,49\n",
      "9.454573 => +300\n",
      "9.454573 => +5тыс\n",
      "9.454573 => +74955102933\n",
      "9.454573 => +в\n",
      "2.753227 => ,\n",
      "4.420872 => -\n",
      "8.761426 => --\n"
     ]
    }
   ],
   "source": [
    "for feature, idf in tokens_with_IDF[0:20]: print('{0:.6f} => {1}'.format(idf, feature))"
   ]
  },
  {
   "cell_type": "code",
   "execution_count": 32,
   "metadata": {},
   "outputs": [],
   "source": [
    "sorted_tokens_with_IDF = sorted(tokens_with_IDF, key=lambda it: (-it[1], it[0]))"
   ]
  },
  {
   "cell_type": "code",
   "execution_count": 33,
   "metadata": {},
   "outputs": [
    {
     "name": "stdout",
     "output_type": "stream",
     "text": [
      "9.454573 => *^____^*\n",
      "9.454573 => *бесится*\n",
      "9.454573 => *трипл-смайлик-крик-мунка*\n",
      "9.454573 => +3,49\n",
      "9.454573 => +300\n",
      "9.454573 => +5тыс\n",
      "9.454573 => +74955102933\n",
      "9.454573 => +в\n",
      "9.454573 => -4.8\n",
      "9.454573 => -5\n",
      "9.454573 => -6.4\n",
      "9.454573 => -а\n",
      "9.454573 => -круто\n",
      "9.454573 => -осуществление\n",
      "9.454573 => -подключение\n",
      "9.454573 => -привлечение\n",
      "9.454573 => -разменяйте\n",
      "9.454573 => -россельхозбанка\n",
      "9.454573 => -сами\n",
      "9.454573 => -сервис\n"
     ]
    }
   ],
   "source": [
    "for feature, idf in sorted_tokens_with_IDF[0:20]: print('{0:.6f} => {1}'.format(idf, feature))"
   ]
  },
  {
   "cell_type": "code",
   "execution_count": 34,
   "metadata": {},
   "outputs": [],
   "source": [
    "from sklearn.feature_selection import SelectPercentile, chi2"
   ]
  },
  {
   "cell_type": "code",
   "execution_count": 35,
   "metadata": {},
   "outputs": [],
   "source": [
    "selector = SelectPercentile(chi2, percentile=20)"
   ]
  },
  {
   "cell_type": "code",
   "execution_count": 36,
   "metadata": {},
   "outputs": [
    {
     "data": {
      "text/plain": [
       "SelectPercentile(percentile=20, score_func=<function chi2 at 0x7fd8c1eaa1e0>)"
      ]
     },
     "execution_count": 36,
     "metadata": {},
     "output_type": "execute_result"
    }
   ],
   "source": [
    "selector.fit(X_transformed, labels)"
   ]
  },
  {
   "cell_type": "code",
   "execution_count": 37,
   "metadata": {},
   "outputs": [],
   "source": [
    "selected_tokens_with_IDF = [tokens_with_IDF[idx] for idx in selector.get_support(indices=True)]"
   ]
  },
  {
   "cell_type": "code",
   "execution_count": 38,
   "metadata": {},
   "outputs": [
    {
     "name": "stdout",
     "output_type": "stream",
     "text": [
      "4048\n"
     ]
    }
   ],
   "source": [
    "print(len(selected_tokens_with_IDF))"
   ]
  },
  {
   "cell_type": "code",
   "execution_count": 39,
   "metadata": {},
   "outputs": [
    {
     "name": "stdout",
     "output_type": "stream",
     "text": [
      "4.417620 => !\n",
      "3.144655 => #\n",
      "5.636861 => %\n",
      "4.134005 => ''\n",
      "4.805386 => (\n",
      "4.443938 => )\n",
      "9.454573 => *^____^*\n",
      "9.049108 => +\n",
      "9.454573 => +5тыс\n",
      "2.753227 => ,\n",
      "4.420872 => -\n",
      "9.454573 => -россельхозбанка\n",
      "3.175114 => .\n",
      "7.012226 => ..\n",
      "3.784692 => ...\n",
      "9.454573 => ._\n",
      "6.070183 => /\n",
      "9.454573 => //t.co/01ftjc0bur\n",
      "9.454573 => //t.co/0gfmj3s0gi\n",
      "9.454573 => //t.co/0i4pf81ksd\n"
     ]
    }
   ],
   "source": [
    "for feature, idf in selected_tokens_with_IDF[0:20]: print('{0:.6f} => {1}'.format(idf, feature))"
   ]
  },
  {
   "cell_type": "code",
   "execution_count": 40,
   "metadata": {},
   "outputs": [],
   "source": [
    "selected_and_sorted_tokens_with_IDF = sorted(selected_tokens_with_IDF, key=lambda it: (-it[1], it[0]))"
   ]
  },
  {
   "cell_type": "code",
   "execution_count": 41,
   "metadata": {},
   "outputs": [
    {
     "name": "stdout",
     "output_type": "stream",
     "text": [
      "9.454573 => *^____^*\n",
      "9.454573 => +5тыс\n",
      "9.454573 => -россельхозбанка\n",
      "9.454573 => ._\n",
      "9.454573 => //t.co/01ftjc0bur\n",
      "9.454573 => //t.co/0gfmj3s0gi\n",
      "9.454573 => //t.co/0i4pf81ksd\n",
      "9.454573 => //t.co/0jzv0jq959\n",
      "9.454573 => //t.co/0lt5jdmk9l\n",
      "9.454573 => //t.co/0s03a0v7po\n",
      "9.454573 => //t.co/0ttwpnjnef\n",
      "9.454573 => //t.co/0vpcvumoe8\n",
      "9.454573 => //t.co/0wziwezr91\n",
      "9.454573 => //t.co/0y05qjok2q\n",
      "9.454573 => //t.co/1aa3jpbxqh\n",
      "9.454573 => //t.co/1cjshtzrda\n",
      "9.454573 => //t.co/1d3bb71qbt\n",
      "9.454573 => //t.co/1eodyxqq0a\n",
      "9.454573 => //t.co/1fxzerzsps\n",
      "9.454573 => //t.co/1kiwdyic6t\n"
     ]
    }
   ],
   "source": [
    "for feature, idf in selected_and_sorted_tokens_with_IDF[0:20]: print('{0:.6f} => {1}'.format(idf, feature))"
   ]
  },
  {
   "cell_type": "code",
   "execution_count": null,
   "metadata": {},
   "outputs": [],
   "source": []
  }
 ],
 "metadata": {
  "kernelspec": {
   "display_name": "Python 3",
   "language": "python",
   "name": "python3"
  },
  "language_info": {
   "codemirror_mode": {
    "name": "ipython",
    "version": 3
   },
   "file_extension": ".py",
   "mimetype": "text/x-python",
   "name": "python",
   "nbconvert_exporter": "python",
   "pygments_lexer": "ipython3",
   "version": "3.8.5"
  }
 },
 "nbformat": 4,
 "nbformat_minor": 2
}
